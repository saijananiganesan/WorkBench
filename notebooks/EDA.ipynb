{
 "cells": [
  {
   "cell_type": "markdown",
   "metadata": {},
   "source": [
    "## Analyzing data from  [CROL, NY](https://a856-cityrecord.nyc.gov/Home/AboutUs) "
   ]
  },
  {
   "cell_type": "code",
   "execution_count": 455,
   "metadata": {},
   "outputs": [],
   "source": [
    "import pandas as pd\n",
    "pd.set_option('mode.chained_assignment', None)\n",
    "import matplotlib.pyplot as plt\n",
    "import matplotlib.cm as cm\n",
    "import matplotlib.gridspec as gridspec\n",
    "from matplotlib import rcParams\n",
    "import seaborn as sns\n",
    "import numpy as np\n",
    "import datetime as dt\n",
    "from bs4 import BeautifulSoup\n",
    "import requests\n",
    "\n",
    "\n",
    "from IPython.core.interactiveshell import InteractiveShell\n",
    "InteractiveShell.ast_node_interactivity = \"all\"\n",
    "import warnings\n",
    "warnings.filterwarnings('ignore')\n",
    "\n",
    "# figure size in inches\n",
    "rcParams['figure.figsize'] = 11.7,8.27\n",
    "params = {'legend.fontsize': 20,\n",
    "          'legend.handlelength': 2}\n",
    "plt.rcParams.update(params)\n",
    "\n",
    "#add data path\n",
    "data_path='../data/'"
   ]
  },
  {
   "cell_type": "markdown",
   "metadata": {},
   "source": [
    "### Useful functions"
   ]
  },
  {
   "cell_type": "code",
   "execution_count": 509,
   "metadata": {},
   "outputs": [],
   "source": [
    "def fetch_data(path,fname='Recent_Contract_Awards.csv'):\n",
    "    df=pd.read_csv(data_path+fname)\n",
    "    return df\n",
    "\n",
    "def get_null_columns(df):\n",
    "    null_columns=[]\n",
    "    for col in df.columns:\n",
    "        if df[col].isnull().all():\n",
    "            null_columns.append(col)\n",
    "    return null_columns\n",
    "\n",
    "def drop_null_columns(df,null_columns):\n",
    "    for col in null_columns:\n",
    "        df.drop(col,axis=1, inplace=True)\n",
    "    return df\n",
    "\n",
    "def filter_df(df):\n",
    "    filter_df_1=df[(cleaned_df['StartDate'].dt.year >= 2010) & (df['StartDate'].dt.year <= 2019)]\n",
    "    filter_df_2=filter_df_1[filter_df_1['ContractAmount'].notna()][filter_df_1[filter_df_1['ContractAmount'].notna()]['ContractAmount'] >0]\n",
    "    return filter_df_2\n",
    "    \n",
    "def get_NYC_zip():\n",
    "    weblink='https://www.health.ny.gov/statistics/cancer/registry/appendix/neighborhoods.htm'\n",
    "    page=requests.get(weblink)\n",
    "    zip_page= BeautifulSoup(page.content, 'html.parser')\n",
    "    Table=[item.get_text().replace(' ','').replace('-','').replace('.','') for item in zip_page.findAll(\"td\")]\n",
    "    NY_zip=[]\n",
    "    for i,j in enumerate(Table):\n",
    "        if j.isalpha()==False:\n",
    "            pins=j.split(',')\n",
    "            for pin in pins:\n",
    "                NY_zip.append(pin)\n",
    "    return NY_zip"
   ]
  },
  {
   "cell_type": "markdown",
   "metadata": {},
   "source": [
    "#### Keep only rows with a StartDate occurring from 2010 to 2019, inclusive. Next, remove all rows for which the ContractAmount field is less than or equal to zero, or is missing entirely. Use this filtered data for the rest of the challenge, as well. For the remaining data, what is the total sum of contract amounts?"
   ]
  },
  {
   "cell_type": "code",
   "execution_count": 56,
   "metadata": {},
   "outputs": [],
   "source": [
    "#df=fetch_data()\n",
    "cleaned_df=drop_null_columns(df,get_null_columns(df))\n",
    "#cleaned_df['StartDate'].dtype\n",
    "cleaned_df['StartDate']= pd.to_datetime(df['StartDate']) \n",
    "cleaned_df['EndDate']= pd.to_datetime(df['EndDate']) \n",
    "#cleaned_df['StartDate'].dtype\n",
    "filtered_df=filter_df(cleaned_df)\n"
   ]
  },
  {
   "cell_type": "code",
   "execution_count": 141,
   "metadata": {},
   "outputs": [
    {
     "name": "stdout",
     "output_type": "stream",
     "text": [
      "Total sum of contract amounts is: 207783994327.839996\n"
     ]
    }
   ],
   "source": [
    "answer_quest_1=filtered_df['ContractAmount'].sum(axis=0)\n",
    "print (\"Total sum of contract amounts is: %f\"%answer_quest_1)"
   ]
  },
  {
   "cell_type": "markdown",
   "metadata": {},
   "source": [
    "#### Determine the number of contracts awarded by each agency. For the top 5 agencies in terms the number of contracts, compute the mean ContractAmount per contract. Among these values, what is the ratio of the highest mean contract amount to the second highest?"
   ]
  },
  {
   "cell_type": "code",
   "execution_count": 109,
   "metadata": {},
   "outputs": [
    {
     "name": "stdout",
     "output_type": "stream",
     "text": [
      "Ratio of the highest mean contract amount to the second highest is 4.792396\n"
     ]
    }
   ],
   "source": [
    "Top_five_agencies_df=filtered_df.groupby(['AgencyName']).count().sort_values('RequestID',ascending=False)\n",
    "Top_five=Top_five_agencies_df.reset_index().iloc[0:5,:]['AgencyName'].to_list()\n",
    "Mean_contract_amount=filtered_df.groupby(['AgencyName']).mean().reset_index()\n",
    "Top_five_contact_amount=[]\n",
    "for i in Top_five:\n",
    "    Top_five_contact_amount.append(Mean_contract_amount[Mean_contract_amount['AgencyName']==i]['ContractAmount'].values[0])\n",
    "T5_sorted=sorted(Top_five_contact_amount)\n",
    "Ratio=T5_sorted[-1]/T5_sorted[-2]\n",
    "print (\"Ratio of the highest mean contract amount to the second highest is %f\"%Ratio)\n"
   ]
  },
  {
   "cell_type": "markdown",
   "metadata": {},
   "source": [
    "#### Consider only procurements made by the Citywide Administrative Services agency and compute the sum contract amount awarded to each unique vendor. What proportion of the total number of contracts in the data set were awarded to the top 50 vendors?"
   ]
  },
  {
   "cell_type": "code",
   "execution_count": 128,
   "metadata": {},
   "outputs": [],
   "source": [
    "CAS=filtered_df[filtered_df['AgencyName']=='Citywide Administrative Services']\n",
    "Top50_vendors=CAS.groupby(['VendorName']).sum().sort_values('ContractAmount',ascending=False).iloc[0:50,:].reset_index()['VendorName'].to_list()"
   ]
  },
  {
   "cell_type": "code",
   "execution_count": 137,
   "metadata": {},
   "outputs": [
    {
     "name": "stdout",
     "output_type": "stream",
     "text": [
      "Total number of contracts awarded 5098\n"
     ]
    }
   ],
   "source": [
    "all_vendors=CAS.groupby(['VendorName']).count().reset_index()\n",
    "Total_num_contracts=all_vendors.sum()['RequestID']\n",
    "print (\"Total number of contracts awarded %d\"%Total_num_contracts)"
   ]
  },
  {
   "cell_type": "code",
   "execution_count": 139,
   "metadata": {},
   "outputs": [
    {
     "name": "stdout",
     "output_type": "stream",
     "text": [
      "Total number of contracts awarded to top 50 vendors 197\n"
     ]
    }
   ],
   "source": [
    "Contracts_for_top50=all_vendors[all_vendors['VendorName'].isin(Top50_vendors)].sum()['RequestID']\n",
    "print (\"Total number of contracts awarded to top 50 vendors %d\"%Contracts_for_top50)"
   ]
  },
  {
   "cell_type": "code",
   "execution_count": 140,
   "metadata": {},
   "outputs": [
    {
     "name": "stdout",
     "output_type": "stream",
     "text": [
      "Percentage of contracts to top 50 vendors is 0.038643\n"
     ]
    }
   ],
   "source": [
    "print (\"Percentage of contracts to top 50 vendors is %f\"%(Contracts_for_top50/Total_num_contracts))"
   ]
  },
  {
   "cell_type": "markdown",
   "metadata": {},
   "source": [
    "#### For this question, consider only contracts with in the categories of Construction Related Services and Construction/Construction Services. The ShortTitle field contains a description of the procured goods/services for each contract. Compute the sum contract amount for contracts whose ShortTitle refer to 'CENTRAL PARK' and for those which refer to 'WASHINGTON SQUARE PARK'. What is the ratio of total construction and contruction-related expenditure for the Central Park contracts compared to the Washington Square Park contracts? Note: you should ensure that 'PARK' appears on its own and not as the beginning of another word."
   ]
  },
  {
   "cell_type": "code",
   "execution_count": 196,
   "metadata": {},
   "outputs": [
    {
     "name": "stdout",
     "output_type": "stream",
     "text": [
      "Sum amount for Central park contracts is 13064125.600000\n",
      "Sum amount for Washington square park contracts is 8939669.240000\n",
      "The ratio between Central park and Washington square park is 1.461366\n"
     ]
    }
   ],
   "source": [
    "categories=['Construction/Construction Services','Construction Related Services']\n",
    "categories_df=filtered_df[filtered_df['CategoryDescription'].isin(categories)]\n",
    "#categories_df[categories_df['ShortTitle'].str.contains(r'(?:\\s|^)CENTRAL PARK(?:\\s|$)')]['ShortTitle'].unique()\n",
    "central_park=categories_df[categories_df['ShortTitle'].str.contains(r'(?:\\s|^)CENTRAL PARK(?:\\s|$)')]\n",
    "CP_sum=central_park['ContractAmount'].sum()\n",
    "print (\"Sum amount for Central park contracts is %f\"%(CP_sum))\n",
    "Wash_park=categories_df[categories_df['ShortTitle'].str.contains('WASHINGTON SQUARE PARK')]\n",
    "WP_sum=Wash_park['ContractAmount'].sum()\n",
    "print (\"Sum amount for Washington square park contracts is %f\"%(WP_sum))\n",
    "print (\"The ratio between Central park and Washington square park is %f\"%(CP_sum/WP_sum))\n"
   ]
  },
  {
   "cell_type": "markdown",
   "metadata": {},
   "source": [
    "#### Consider only contracts awarded by the Citywide Administrative Services agency in the category Goods. Compute the total yearly expenditure (using StartDate) for these contracts and fit a linear regression model to these values. What is the R^2 value for this model?"
   ]
  },
  {
   "cell_type": "code",
   "execution_count": 201,
   "metadata": {},
   "outputs": [
    {
     "data": {
      "text/html": [
       "<div>\n",
       "<style scoped>\n",
       "    .dataframe tbody tr th:only-of-type {\n",
       "        vertical-align: middle;\n",
       "    }\n",
       "\n",
       "    .dataframe tbody tr th {\n",
       "        vertical-align: top;\n",
       "    }\n",
       "\n",
       "    .dataframe thead th {\n",
       "        text-align: right;\n",
       "    }\n",
       "</style>\n",
       "<table border=\"1\" class=\"dataframe\">\n",
       "  <thead>\n",
       "    <tr style=\"text-align: right;\">\n",
       "      <th></th>\n",
       "      <th>RequestID</th>\n",
       "      <th>StartDate</th>\n",
       "      <th>EndDate</th>\n",
       "      <th>AgencyName</th>\n",
       "      <th>TypeOfNoticeDescription</th>\n",
       "      <th>CategoryDescription</th>\n",
       "      <th>ShortTitle</th>\n",
       "      <th>SelectionMethodDescription</th>\n",
       "      <th>SectionName</th>\n",
       "      <th>SpecialCaseReasonDescription</th>\n",
       "      <th>...</th>\n",
       "      <th>ContactPhone</th>\n",
       "      <th>Email</th>\n",
       "      <th>ContractAmount</th>\n",
       "      <th>AdditionalDescription1</th>\n",
       "      <th>OtherInfo1</th>\n",
       "      <th>VendorName</th>\n",
       "      <th>VendorAddress</th>\n",
       "      <th>Printout1</th>\n",
       "      <th>Printout2</th>\n",
       "      <th>DocumentLinks</th>\n",
       "    </tr>\n",
       "  </thead>\n",
       "  <tbody>\n",
       "    <tr>\n",
       "      <th>206</th>\n",
       "      <td>20151019009</td>\n",
       "      <td>2015-10-26</td>\n",
       "      <td>2015-10-26</td>\n",
       "      <td>Citywide Administrative Services</td>\n",
       "      <td>Award</td>\n",
       "      <td>Goods</td>\n",
       "      <td>EQUIPMENT II, RENTAL OF VARIOUS</td>\n",
       "      <td>Other</td>\n",
       "      <td>Procurement</td>\n",
       "      <td>NaN</td>\n",
       "      <td>...</td>\n",
       "      <td>NaN</td>\n",
       "      <td>NaN</td>\n",
       "      <td>219456.00</td>\n",
       "      <td>NaN</td>\n",
       "      <td>Original Vendor:  United Rentals (North Americ...</td>\n",
       "      <td>Hertz Equipment Rental Corp</td>\n",
       "      <td>206 Route 109 East, Farmingdale, NY 11735</td>\n",
       "      <td>EQUIPMENT II, RENTAL OF VARIOUS - Other - PIN#...</td>\n",
       "      <td>NaN</td>\n",
       "      <td>NaN</td>\n",
       "    </tr>\n",
       "    <tr>\n",
       "      <th>207</th>\n",
       "      <td>20190531014</td>\n",
       "      <td>2019-06-07</td>\n",
       "      <td>2019-06-07</td>\n",
       "      <td>Citywide Administrative Services</td>\n",
       "      <td>Award</td>\n",
       "      <td>Goods</td>\n",
       "      <td>NYS OGS - TASK FORCE RESCUE SYSTEM - FDNY</td>\n",
       "      <td>Intergovernmental Purchase</td>\n",
       "      <td>Procurement</td>\n",
       "      <td>Other (Describe below in Other Legally Mandate...</td>\n",
       "      <td>...</td>\n",
       "      <td>NaN</td>\n",
       "      <td>NaN</td>\n",
       "      <td>424851.80</td>\n",
       "      <td>NaN</td>\n",
       "      <td>OGS Contr PC66825 Suppliers wishing to be cons...</td>\n",
       "      <td>Zistos Corporation</td>\n",
       "      <td>1736 Church Street, Holbrook, NY 11741</td>\n",
       "      <td>NYS OGS - TASK FORCE RESCUE SYSTEM - FDNY - In...</td>\n",
       "      <td>NaN</td>\n",
       "      <td>NaN</td>\n",
       "    </tr>\n",
       "    <tr>\n",
       "      <th>209</th>\n",
       "      <td>20160420023</td>\n",
       "      <td>2016-04-27</td>\n",
       "      <td>2016-04-27</td>\n",
       "      <td>Citywide Administrative Services</td>\n",
       "      <td>Award</td>\n",
       "      <td>Goods</td>\n",
       "      <td>SNACKS</td>\n",
       "      <td>Competitive Sealed Bids</td>\n",
       "      <td>Procurement</td>\n",
       "      <td>NaN</td>\n",
       "      <td>...</td>\n",
       "      <td>NaN</td>\n",
       "      <td>NaN</td>\n",
       "      <td>6138.00</td>\n",
       "      <td>NaN</td>\n",
       "      <td>NaN</td>\n",
       "      <td>Keefe Group LLC</td>\n",
       "      <td>301 Mill Road, Edison, NJ 08837</td>\n",
       "      <td>SNACKS - Competitive Sealed Bids - PIN# 857160...</td>\n",
       "      <td>NaN</td>\n",
       "      <td>NaN</td>\n",
       "    </tr>\n",
       "    <tr>\n",
       "      <th>224</th>\n",
       "      <td>20160425024</td>\n",
       "      <td>2016-05-02</td>\n",
       "      <td>2016-05-02</td>\n",
       "      <td>Citywide Administrative Services</td>\n",
       "      <td>Award</td>\n",
       "      <td>Goods</td>\n",
       "      <td>FRUITS  AND  VEGETABLES - FRESH, SEASONAL</td>\n",
       "      <td>Competitive Sealed Bids</td>\n",
       "      <td>Procurement</td>\n",
       "      <td>NaN</td>\n",
       "      <td>...</td>\n",
       "      <td>NaN</td>\n",
       "      <td>NaN</td>\n",
       "      <td>1327263.96</td>\n",
       "      <td>NaN</td>\n",
       "      <td>NaN</td>\n",
       "      <td>Plainfield Fruit  and  Produce Company Inc</td>\n",
       "      <td>82 Executive Avenue, Edison, NJ 08817</td>\n",
       "      <td>FRUITS  AND  VEGETABLES - FRESH, SEASONAL - Co...</td>\n",
       "      <td>NaN</td>\n",
       "      <td>NaN</td>\n",
       "    </tr>\n",
       "    <tr>\n",
       "      <th>238</th>\n",
       "      <td>20130730008</td>\n",
       "      <td>2013-08-06</td>\n",
       "      <td>2013-08-06</td>\n",
       "      <td>Citywide Administrative Services</td>\n",
       "      <td>Award</td>\n",
       "      <td>Goods</td>\n",
       "      <td>OTI MICROPLATE DRUGS OF ABUSE AND TEST KITS</td>\n",
       "      <td>Competitive Sealed Bids</td>\n",
       "      <td>Procurement</td>\n",
       "      <td>NaN</td>\n",
       "      <td>...</td>\n",
       "      <td>NaN</td>\n",
       "      <td>NaN</td>\n",
       "      <td>331512.00</td>\n",
       "      <td>NaN</td>\n",
       "      <td>NaN</td>\n",
       "      <td>ORASURE TECHNOLOGIES INC.</td>\n",
       "      <td>220 EAST FIRST STREET, BETHLEHEM, PA  18015</td>\n",
       "      <td>OTI MICROPLATE DRUGS OF ABUSE AND TEST KITS - ...</td>\n",
       "      <td>NaN</td>\n",
       "      <td>NaN</td>\n",
       "    </tr>\n",
       "    <tr>\n",
       "      <th>...</th>\n",
       "      <td>...</td>\n",
       "      <td>...</td>\n",
       "      <td>...</td>\n",
       "      <td>...</td>\n",
       "      <td>...</td>\n",
       "      <td>...</td>\n",
       "      <td>...</td>\n",
       "      <td>...</td>\n",
       "      <td>...</td>\n",
       "      <td>...</td>\n",
       "      <td>...</td>\n",
       "      <td>...</td>\n",
       "      <td>...</td>\n",
       "      <td>...</td>\n",
       "      <td>...</td>\n",
       "      <td>...</td>\n",
       "      <td>...</td>\n",
       "      <td>...</td>\n",
       "      <td>...</td>\n",
       "      <td>...</td>\n",
       "      <td>...</td>\n",
       "    </tr>\n",
       "    <tr>\n",
       "      <th>35534</th>\n",
       "      <td>20111227014</td>\n",
       "      <td>2012-01-04</td>\n",
       "      <td>2012-01-04</td>\n",
       "      <td>Citywide Administrative Services</td>\n",
       "      <td>Award</td>\n",
       "      <td>Goods</td>\n",
       "      <td>WATER METERS, LARGE (D.E.P.)</td>\n",
       "      <td>Competitive Sealed Bids</td>\n",
       "      <td>Procurement</td>\n",
       "      <td>NaN</td>\n",
       "      <td>...</td>\n",
       "      <td>NaN</td>\n",
       "      <td>NaN</td>\n",
       "      <td>370890.00</td>\n",
       "      <td>NaN</td>\n",
       "      <td>NaN</td>\n",
       "      <td>Neptune Technology Group Inc</td>\n",
       "      <td>1600 Alabama Highway 229, Tallassee,  AL  36078</td>\n",
       "      <td>WATER METERS, LARGE (D.E.P.) - Competitive Sea...</td>\n",
       "      <td>NaN</td>\n",
       "      <td>NaN</td>\n",
       "    </tr>\n",
       "    <tr>\n",
       "      <th>35536</th>\n",
       "      <td>20140819030</td>\n",
       "      <td>2014-08-26</td>\n",
       "      <td>2014-08-26</td>\n",
       "      <td>Citywide Administrative Services</td>\n",
       "      <td>Award</td>\n",
       "      <td>Goods</td>\n",
       "      <td>GROCERIES, MISCELLANEOUS, HRA EFNAP</td>\n",
       "      <td>Competitive Sealed Bids</td>\n",
       "      <td>Procurement</td>\n",
       "      <td>NaN</td>\n",
       "      <td>...</td>\n",
       "      <td>NaN</td>\n",
       "      <td>NaN</td>\n",
       "      <td>166938.80</td>\n",
       "      <td>NaN</td>\n",
       "      <td>NaN</td>\n",
       "      <td>H Schrier And Company, Inc.</td>\n",
       "      <td>4901 Glenwood Road, Brooklyn, NY  11234</td>\n",
       "      <td>GROCERIES, MISCELLANEOUS, HRA EFNAP - Competit...</td>\n",
       "      <td>NaN</td>\n",
       "      <td>NaN</td>\n",
       "    </tr>\n",
       "    <tr>\n",
       "      <th>35540</th>\n",
       "      <td>20101202005</td>\n",
       "      <td>2010-12-09</td>\n",
       "      <td>2010-12-09</td>\n",
       "      <td>Citywide Administrative Services</td>\n",
       "      <td>Award</td>\n",
       "      <td>Goods</td>\n",
       "      <td>CERVICAL EXTRICATION COLLARS (ADJUSTABLE/FDNY)</td>\n",
       "      <td>Competitive Sealed Bids</td>\n",
       "      <td>Procurement</td>\n",
       "      <td>NaN</td>\n",
       "      <td>...</td>\n",
       "      <td>NaN</td>\n",
       "      <td>NaN</td>\n",
       "      <td>242416.80</td>\n",
       "      <td>NaN</td>\n",
       "      <td>NaN</td>\n",
       "      <td>Ambu Inc.</td>\n",
       "      <td>6740 Baymeadow Drive, Glen Burnie, MD  21060</td>\n",
       "      <td>CERVICAL EXTRICATION COLLARS (ADJUSTABLE/FDNY)...</td>\n",
       "      <td>NaN</td>\n",
       "      <td>NaN</td>\n",
       "    </tr>\n",
       "    <tr>\n",
       "      <th>35541</th>\n",
       "      <td>20131218023</td>\n",
       "      <td>2013-12-27</td>\n",
       "      <td>2013-12-27</td>\n",
       "      <td>Citywide Administrative Services</td>\n",
       "      <td>Award</td>\n",
       "      <td>Goods</td>\n",
       "      <td>TOTAL SOLUTIONS FOR LAW ENFORCEMENT/SECURITY I...</td>\n",
       "      <td>Intergovernmental Purchase</td>\n",
       "      <td>Procurement</td>\n",
       "      <td>Other (Describe below in Other Legally Mandate...</td>\n",
       "      <td>...</td>\n",
       "      <td>NaN</td>\n",
       "      <td>NaN</td>\n",
       "      <td>332469.81</td>\n",
       "      <td>NaN</td>\n",
       "      <td>GSA Contract #GS-07F-0362T  Supliers wishing t...</td>\n",
       "      <td>GRAVOIS ALUMINUM BOATS LLC METAL SHARK ALUMINU...</td>\n",
       "      <td>6814- E ADMIRAL DOYLE DRIVE , JEANERETTE LA  7...</td>\n",
       "      <td>TOTAL SOLUTIONS FOR LAW ENFORCEMENT/SECURITY I...</td>\n",
       "      <td>NaN</td>\n",
       "      <td>NaN</td>\n",
       "    </tr>\n",
       "    <tr>\n",
       "      <th>35542</th>\n",
       "      <td>20151216014</td>\n",
       "      <td>2015-12-23</td>\n",
       "      <td>2015-12-23</td>\n",
       "      <td>Citywide Administrative Services</td>\n",
       "      <td>Award</td>\n",
       "      <td>Goods</td>\n",
       "      <td>LIFEGUARD UNIFORMS  AND  BATHING SUITS - BRAND...</td>\n",
       "      <td>Competitive Sealed Bids</td>\n",
       "      <td>Procurement</td>\n",
       "      <td>NaN</td>\n",
       "      <td>...</td>\n",
       "      <td>NaN</td>\n",
       "      <td>NaN</td>\n",
       "      <td>492242.70</td>\n",
       "      <td>NaN</td>\n",
       "      <td>NaN</td>\n",
       "      <td>TYR Sport Inc Dba The Finals</td>\n",
       "      <td>21 Minisink Avenue, Port Jervis NY. 12771</td>\n",
       "      <td>LIFEGUARD UNIFORMS  AND  BATHING SUITS - BRAND...</td>\n",
       "      <td>NaN</td>\n",
       "      <td>NaN</td>\n",
       "    </tr>\n",
       "  </tbody>\n",
       "</table>\n",
       "<p>4749 rows × 23 columns</p>\n",
       "</div>"
      ],
      "text/plain": [
       "         RequestID  StartDate    EndDate                        AgencyName  \\\n",
       "206    20151019009 2015-10-26 2015-10-26  Citywide Administrative Services   \n",
       "207    20190531014 2019-06-07 2019-06-07  Citywide Administrative Services   \n",
       "209    20160420023 2016-04-27 2016-04-27  Citywide Administrative Services   \n",
       "224    20160425024 2016-05-02 2016-05-02  Citywide Administrative Services   \n",
       "238    20130730008 2013-08-06 2013-08-06  Citywide Administrative Services   \n",
       "...            ...        ...        ...                               ...   \n",
       "35534  20111227014 2012-01-04 2012-01-04  Citywide Administrative Services   \n",
       "35536  20140819030 2014-08-26 2014-08-26  Citywide Administrative Services   \n",
       "35540  20101202005 2010-12-09 2010-12-09  Citywide Administrative Services   \n",
       "35541  20131218023 2013-12-27 2013-12-27  Citywide Administrative Services   \n",
       "35542  20151216014 2015-12-23 2015-12-23  Citywide Administrative Services   \n",
       "\n",
       "      TypeOfNoticeDescription CategoryDescription  \\\n",
       "206                     Award               Goods   \n",
       "207                     Award               Goods   \n",
       "209                     Award               Goods   \n",
       "224                     Award               Goods   \n",
       "238                     Award               Goods   \n",
       "...                       ...                 ...   \n",
       "35534                   Award               Goods   \n",
       "35536                   Award               Goods   \n",
       "35540                   Award               Goods   \n",
       "35541                   Award               Goods   \n",
       "35542                   Award               Goods   \n",
       "\n",
       "                                              ShortTitle  \\\n",
       "206                      EQUIPMENT II, RENTAL OF VARIOUS   \n",
       "207            NYS OGS - TASK FORCE RESCUE SYSTEM - FDNY   \n",
       "209                                               SNACKS   \n",
       "224            FRUITS  AND  VEGETABLES - FRESH, SEASONAL   \n",
       "238          OTI MICROPLATE DRUGS OF ABUSE AND TEST KITS   \n",
       "...                                                  ...   \n",
       "35534                       WATER METERS, LARGE (D.E.P.)   \n",
       "35536                GROCERIES, MISCELLANEOUS, HRA EFNAP   \n",
       "35540     CERVICAL EXTRICATION COLLARS (ADJUSTABLE/FDNY)   \n",
       "35541  TOTAL SOLUTIONS FOR LAW ENFORCEMENT/SECURITY I...   \n",
       "35542  LIFEGUARD UNIFORMS  AND  BATHING SUITS - BRAND...   \n",
       "\n",
       "       SelectionMethodDescription  SectionName  \\\n",
       "206                         Other  Procurement   \n",
       "207    Intergovernmental Purchase  Procurement   \n",
       "209       Competitive Sealed Bids  Procurement   \n",
       "224       Competitive Sealed Bids  Procurement   \n",
       "238       Competitive Sealed Bids  Procurement   \n",
       "...                           ...          ...   \n",
       "35534     Competitive Sealed Bids  Procurement   \n",
       "35536     Competitive Sealed Bids  Procurement   \n",
       "35540     Competitive Sealed Bids  Procurement   \n",
       "35541  Intergovernmental Purchase  Procurement   \n",
       "35542     Competitive Sealed Bids  Procurement   \n",
       "\n",
       "                            SpecialCaseReasonDescription  ... ContactPhone  \\\n",
       "206                                                  NaN  ...          NaN   \n",
       "207    Other (Describe below in Other Legally Mandate...  ...          NaN   \n",
       "209                                                  NaN  ...          NaN   \n",
       "224                                                  NaN  ...          NaN   \n",
       "238                                                  NaN  ...          NaN   \n",
       "...                                                  ...  ...          ...   \n",
       "35534                                                NaN  ...          NaN   \n",
       "35536                                                NaN  ...          NaN   \n",
       "35540                                                NaN  ...          NaN   \n",
       "35541  Other (Describe below in Other Legally Mandate...  ...          NaN   \n",
       "35542                                                NaN  ...          NaN   \n",
       "\n",
       "      Email ContractAmount AdditionalDescription1  \\\n",
       "206     NaN      219456.00                    NaN   \n",
       "207     NaN      424851.80                    NaN   \n",
       "209     NaN        6138.00                    NaN   \n",
       "224     NaN     1327263.96                    NaN   \n",
       "238     NaN      331512.00                    NaN   \n",
       "...     ...            ...                    ...   \n",
       "35534   NaN      370890.00                    NaN   \n",
       "35536   NaN      166938.80                    NaN   \n",
       "35540   NaN      242416.80                    NaN   \n",
       "35541   NaN      332469.81                    NaN   \n",
       "35542   NaN      492242.70                    NaN   \n",
       "\n",
       "                                              OtherInfo1  \\\n",
       "206    Original Vendor:  United Rentals (North Americ...   \n",
       "207    OGS Contr PC66825 Suppliers wishing to be cons...   \n",
       "209                                                  NaN   \n",
       "224                                                  NaN   \n",
       "238                                                  NaN   \n",
       "...                                                  ...   \n",
       "35534                                                NaN   \n",
       "35536                                                NaN   \n",
       "35540                                                NaN   \n",
       "35541  GSA Contract #GS-07F-0362T  Supliers wishing t...   \n",
       "35542                                                NaN   \n",
       "\n",
       "                                              VendorName  \\\n",
       "206                          Hertz Equipment Rental Corp   \n",
       "207                                   Zistos Corporation   \n",
       "209                                      Keefe Group LLC   \n",
       "224           Plainfield Fruit  and  Produce Company Inc   \n",
       "238                            ORASURE TECHNOLOGIES INC.   \n",
       "...                                                  ...   \n",
       "35534                       Neptune Technology Group Inc   \n",
       "35536                        H Schrier And Company, Inc.   \n",
       "35540                                          Ambu Inc.   \n",
       "35541  GRAVOIS ALUMINUM BOATS LLC METAL SHARK ALUMINU...   \n",
       "35542                       TYR Sport Inc Dba The Finals   \n",
       "\n",
       "                                           VendorAddress  \\\n",
       "206            206 Route 109 East, Farmingdale, NY 11735   \n",
       "207               1736 Church Street, Holbrook, NY 11741   \n",
       "209                      301 Mill Road, Edison, NJ 08837   \n",
       "224                82 Executive Avenue, Edison, NJ 08817   \n",
       "238          220 EAST FIRST STREET, BETHLEHEM, PA  18015   \n",
       "...                                                  ...   \n",
       "35534    1600 Alabama Highway 229, Tallassee,  AL  36078   \n",
       "35536            4901 Glenwood Road, Brooklyn, NY  11234   \n",
       "35540       6740 Baymeadow Drive, Glen Burnie, MD  21060   \n",
       "35541  6814- E ADMIRAL DOYLE DRIVE , JEANERETTE LA  7...   \n",
       "35542          21 Minisink Avenue, Port Jervis NY. 12771   \n",
       "\n",
       "                                               Printout1 Printout2  \\\n",
       "206    EQUIPMENT II, RENTAL OF VARIOUS - Other - PIN#...       NaN   \n",
       "207    NYS OGS - TASK FORCE RESCUE SYSTEM - FDNY - In...       NaN   \n",
       "209    SNACKS - Competitive Sealed Bids - PIN# 857160...       NaN   \n",
       "224    FRUITS  AND  VEGETABLES - FRESH, SEASONAL - Co...       NaN   \n",
       "238    OTI MICROPLATE DRUGS OF ABUSE AND TEST KITS - ...       NaN   \n",
       "...                                                  ...       ...   \n",
       "35534  WATER METERS, LARGE (D.E.P.) - Competitive Sea...       NaN   \n",
       "35536  GROCERIES, MISCELLANEOUS, HRA EFNAP - Competit...       NaN   \n",
       "35540  CERVICAL EXTRICATION COLLARS (ADJUSTABLE/FDNY)...       NaN   \n",
       "35541  TOTAL SOLUTIONS FOR LAW ENFORCEMENT/SECURITY I...       NaN   \n",
       "35542  LIFEGUARD UNIFORMS  AND  BATHING SUITS - BRAND...       NaN   \n",
       "\n",
       "      DocumentLinks  \n",
       "206             NaN  \n",
       "207             NaN  \n",
       "209             NaN  \n",
       "224             NaN  \n",
       "238             NaN  \n",
       "...             ...  \n",
       "35534           NaN  \n",
       "35536           NaN  \n",
       "35540           NaN  \n",
       "35541           NaN  \n",
       "35542           NaN  \n",
       "\n",
       "[4749 rows x 23 columns]"
      ]
     },
     "execution_count": 201,
     "metadata": {},
     "output_type": "execute_result"
    }
   ],
   "source": [
    "CAS_df=filtered_df[(filtered_df['AgencyName']=='Citywide Administrative Services') & \\\n",
    "                  (filtered_df['CategoryDescription']=='Goods')]\n",
    "CAS_df"
   ]
  },
  {
   "cell_type": "code",
   "execution_count": 234,
   "metadata": {},
   "outputs": [
    {
     "data": {
      "image/png": "[encoded data removed]",
      "text/plain": [
       "<Figure size 720x504 with 1 Axes>"
      ]
     },
     "metadata": {},
     "output_type": "display_data"
    }
   ],
   "source": [
    "CAS_LR=CAS_df.groupby(CAS_df['StartDate'].dt.year).sum().reset_index()\n",
    "fig = plt.figure(figsize=(10,7))\n",
    "ax = fig.add_subplot(111)\n",
    "ax = sns.lineplot(x=\"StartDate\", y=\"ContractAmount\", data=CAS_LR,linewidth=4)\n",
    "ax.set_title(\"Raw Data\",fontsize=25);\n",
    "ax.set_xlabel(\"Start Date\",fontsize=20);\n",
    "ax.set_ylabel(\"Contract Amount\",fontsize=20);\n",
    "ax.tick_params(labelsize=20);"
   ]
  },
  {
   "cell_type": "code",
   "execution_count": 272,
   "metadata": {},
   "outputs": [
    {
     "name": "stdout",
     "output_type": "stream",
     "text": [
      "Intercept of the fit: -134075962409.681381\n",
      "Coefficient of fit: 67083454.963636\n",
      "R squared of fit: 0.359876\n"
     ]
    },
    {
     "data": {
      "image/png": "[encoded data removed]",
      "text/plain": [
       "<Figure size 720x504 with 1 Axes>"
      ]
     },
     "metadata": {},
     "output_type": "display_data"
    }
   ],
   "source": [
    "from sklearn.model_selection import train_test_split\n",
    "from sklearn.linear_model import LinearRegression\n",
    "X = CAS_LR['StartDate'].values.reshape(-1,1)\n",
    "y = CAS_LR['ContractAmount'].values.reshape(-1,1)\n",
    "regressor = LinearRegression()\n",
    "regressor.fit(X, y)\n",
    "print(\"Intercept of the fit: %f\"%regressor.intercept_)\n",
    "print(\"Coefficient of fit: %f\"%regressor.coef_)\n",
    "print(\"R squared of fit: %f\"%regressor.score(X, y))\n",
    "fit_line=regressor.coef_*CAS_LR['StartDate'].values +regressor.intercept_\n",
    "CAS_LR['Fit_line']=fit_line.reshape(10,1)\n",
    "fig = plt.figure(figsize=(10,7))\n",
    "ax = fig.add_subplot(111)\n",
    "ax = sns.lineplot(x=\"StartDate\", y=\"ContractAmount\", data=CAS_LR,linewidth=4)\n",
    "ax = sns.lineplot(x=\"StartDate\", y=\"Fit_line\", data=CAS_LR,linewidth=4,color='r')\n",
    "ax.lines[1].set_linestyle(\"--\")\n",
    "ax.set_title(\"Raw Data along with fit line\",fontsize=25);\n",
    "ax.set_xlabel(\"Start Date\",fontsize=20);\n",
    "ax.set_ylabel(\"Contract Amount\",fontsize=20);\n",
    "ax.tick_params(labelsize=20);"
   ]
  },
  {
   "cell_type": "markdown",
   "metadata": {},
   "source": [
    "#### Do agencies publish procurement notices uniformly throughout the week? As an example, consider the agency of Parks and Recreation. For this agency, compute the weekday for which each notice was published, and perform a Chi-squared test on the null hypothesis that each weekday occurs equally often. Report the value of the test statistic."
   ]
  },
  {
   "cell_type": "code",
   "execution_count": 304,
   "metadata": {},
   "outputs": [],
   "source": [
    "ParksRec=filtered_df[filtered_df['AgencyName']=='Parks and Recreation']"
   ]
  },
  {
   "cell_type": "code",
   "execution_count": 307,
   "metadata": {},
   "outputs": [
    {
     "data": {
      "text/plain": [
       "8.623413258110013"
      ]
     },
     "execution_count": 307,
     "metadata": {},
     "output_type": "execute_result"
    },
    {
     "name": "stdout",
     "output_type": "stream",
     "text": [
      "Chi squared value for fit: 8.623413\n",
      "Degree of freedom is 4, and critical value at 4 is 9.488, since the value is less than that,we will accept the null hypothesis\n"
     ]
    }
   ],
   "source": [
    "ParksRec['DayOfDate'] = ParksRec['StartDate'].dt.day_name()\n",
    "Chi_df=ParksRec.groupby(['DayOfDate']).count().reset_index()[['DayOfDate','RequestID']]\n",
    "Chi_df['ExpectedID']=[709/5]*5\n",
    "\n",
    "def chi(row):\n",
    "    chi=((row['RequestID']-row['ExpectedID'])**2)/row['ExpectedID']\n",
    "    return chi\n",
    "\n",
    "Chi_df['ChiSqValue'] = Chi_df.apply(chi, axis=1)\n",
    "Chi_df['ChiSqValue'].sum()\n",
    "\n",
    "print(\"Chi squared value for fit: %f\"%Chi_df['ChiSqValue'].sum())\n",
    "print(\"Degree of freedom is 4 (n-1), and critical value at 4 is 9.488, since the value is less than that,we will accept the null hypothesis\")\n"
   ]
  },
  {
   "cell_type": "markdown",
   "metadata": {},
   "source": [
    "#### Is there a predictable, yearly pattern of spending for certain agencies? As an example, consider the Environmental Protection agency. For each month from 2010 through the end of 2019, compute the monthly expenditure for each agency. Once again, use StartDate for the contract date. Then, with a lag of 12 months, report the autocorrelation for total monthly expenditure."
   ]
  },
  {
   "cell_type": "code",
   "execution_count": 343,
   "metadata": {},
   "outputs": [
    {
     "data": {
      "text/html": [
       "<div>\n",
       "<style scoped>\n",
       "    .dataframe tbody tr th:only-of-type {\n",
       "        vertical-align: middle;\n",
       "    }\n",
       "\n",
       "    .dataframe tbody tr th {\n",
       "        vertical-align: top;\n",
       "    }\n",
       "\n",
       "    .dataframe thead th {\n",
       "        text-align: right;\n",
       "    }\n",
       "</style>\n",
       "<table border=\"1\" class=\"dataframe\">\n",
       "  <thead>\n",
       "    <tr style=\"text-align: right;\">\n",
       "      <th></th>\n",
       "      <th>StartDate</th>\n",
       "      <th>RequestID</th>\n",
       "      <th>ContractAmount</th>\n",
       "    </tr>\n",
       "  </thead>\n",
       "  <tbody>\n",
       "    <tr>\n",
       "      <th>0</th>\n",
       "      <td>2010-02-28</td>\n",
       "      <td>40200250041</td>\n",
       "      <td>1.165714e+07</td>\n",
       "    </tr>\n",
       "    <tr>\n",
       "      <th>1</th>\n",
       "      <td>2010-03-31</td>\n",
       "      <td>100501583091</td>\n",
       "      <td>2.345447e+07</td>\n",
       "    </tr>\n",
       "    <tr>\n",
       "      <th>2</th>\n",
       "      <td>2010-04-30</td>\n",
       "      <td>60301239015</td>\n",
       "      <td>6.084658e+06</td>\n",
       "    </tr>\n",
       "    <tr>\n",
       "      <th>3</th>\n",
       "      <td>2010-05-31</td>\n",
       "      <td>40201040022</td>\n",
       "      <td>1.491812e+06</td>\n",
       "    </tr>\n",
       "    <tr>\n",
       "      <th>4</th>\n",
       "      <td>2010-06-30</td>\n",
       "      <td>60301854043</td>\n",
       "      <td>2.454927e+06</td>\n",
       "    </tr>\n",
       "    <tr>\n",
       "      <th>...</th>\n",
       "      <td>...</td>\n",
       "      <td>...</td>\n",
       "      <td>...</td>\n",
       "    </tr>\n",
       "    <tr>\n",
       "      <th>114</th>\n",
       "      <td>2019-08-31</td>\n",
       "      <td>686487268469</td>\n",
       "      <td>2.909235e+09</td>\n",
       "    </tr>\n",
       "    <tr>\n",
       "      <th>115</th>\n",
       "      <td>2019-09-30</td>\n",
       "      <td>201909043123</td>\n",
       "      <td>1.542845e+07</td>\n",
       "    </tr>\n",
       "    <tr>\n",
       "      <th>116</th>\n",
       "      <td>2019-10-31</td>\n",
       "      <td>282673831180</td>\n",
       "      <td>2.152839e+07</td>\n",
       "    </tr>\n",
       "    <tr>\n",
       "      <th>117</th>\n",
       "      <td>2019-11-30</td>\n",
       "      <td>121146576139</td>\n",
       "      <td>5.725265e+07</td>\n",
       "    </tr>\n",
       "    <tr>\n",
       "      <th>118</th>\n",
       "      <td>2019-12-31</td>\n",
       "      <td>242294109198</td>\n",
       "      <td>4.372172e+07</td>\n",
       "    </tr>\n",
       "  </tbody>\n",
       "</table>\n",
       "<p>119 rows × 3 columns</p>\n",
       "</div>"
      ],
      "text/plain": [
       "     StartDate     RequestID  ContractAmount\n",
       "0   2010-02-28   40200250041    1.165714e+07\n",
       "1   2010-03-31  100501583091    2.345447e+07\n",
       "2   2010-04-30   60301239015    6.084658e+06\n",
       "3   2010-05-31   40201040022    1.491812e+06\n",
       "4   2010-06-30   60301854043    2.454927e+06\n",
       "..         ...           ...             ...\n",
       "114 2019-08-31  686487268469    2.909235e+09\n",
       "115 2019-09-30  201909043123    1.542845e+07\n",
       "116 2019-10-31  282673831180    2.152839e+07\n",
       "117 2019-11-30  121146576139    5.725265e+07\n",
       "118 2019-12-31  242294109198    4.372172e+07\n",
       "\n",
       "[119 rows x 3 columns]"
      ]
     },
     "execution_count": 343,
     "metadata": {},
     "output_type": "execute_result"
    }
   ],
   "source": [
    "EPA=filtered_df[filtered_df['AgencyName']=='Environmental Protection']\n",
    "EPA_monthly=EPA.groupby(pd.Grouper(key='StartDate', freq='M')).sum().reset_index()\n",
    "EPA_monthly"
   ]
  },
  {
   "cell_type": "code",
   "execution_count": 344,
   "metadata": {},
   "outputs": [
    {
     "data": {
      "image/png": "[encoded data removed]",
      "text/plain": [
       "<Figure size 720x504 with 1 Axes>"
      ]
     },
     "metadata": {},
     "output_type": "display_data"
    }
   ],
   "source": [
    "fig = plt.figure(figsize=(10,7))\n",
    "ax = fig.add_subplot(111)\n",
    "ax = sns.lineplot(x=\"StartDate\", y=\"ContractAmount\", data=EPA_monthly,linewidth=4)\n",
    "ax.set_title(\"Raw Data\",fontsize=25);\n",
    "ax.set_xlabel(\"Start Date\",fontsize=20);\n",
    "ax.set_ylabel(\"Contract Amount\",fontsize=20);\n",
    "ax.tick_params(labelsize=20);\n",
    "plt.xlabel('Year', fontsize=20);"
   ]
  },
  {
   "cell_type": "code",
   "execution_count": 405,
   "metadata": {},
   "outputs": [
    {
     "data": {
      "text/plain": [
       "Text(0.5, 1.0, 'Autocorrelation')"
      ]
     },
     "execution_count": 405,
     "metadata": {},
     "output_type": "execute_result"
    },
    {
     "data": {
      "text/plain": [
       "Text(0.5, 0, 'Lag')"
      ]
     },
     "execution_count": 405,
     "metadata": {},
     "output_type": "execute_result"
    },
    {
     "data": {
      "text/plain": [
       "Text(0, 0.5, 'Autocorrelation')"
      ]
     },
     "execution_count": 405,
     "metadata": {},
     "output_type": "execute_result"
    },
    {
     "data": {
      "text/plain": [
       "(0, 25)"
      ]
     },
     "execution_count": 405,
     "metadata": {},
     "output_type": "execute_result"
    },
    {
     "data": {
      "text/plain": [
       "(-0.25, 0.25)"
      ]
     },
     "execution_count": 405,
     "metadata": {},
     "output_type": "execute_result"
    },
    {
     "data": {
      "image/png": "[encoded data removed]",
      "text/plain": [
       "<Figure size 432x288 with 1 Axes>"
      ]
     },
     "metadata": {
      "needs_background": "light"
     },
     "output_type": "display_data"
    }
   ],
   "source": [
    "ax=pd.plotting.autocorrelation_plot(EPA_monthly['ContractAmount']);\n",
    "#ax.set_ylim([0,0.045])\n",
    "ax.set_title(\"Autocorrelation\",fontsize=25);\n",
    "ax.set_xlabel(\"Lag\",fontsize=20);\n",
    "ax.set_ylabel(\"Autocorrelation\",fontsize=20);\n",
    "ax.tick_params(labelsize=20);\n",
    "ax.set_xlim([0,25])\n",
    "ax.set_ylim([-0.25,0.25])\n",
    "\n",
    "#EPA_monthly['ContractAmount'].autocorr(lag=12)"
   ]
  },
  {
   "cell_type": "code",
   "execution_count": 400,
   "metadata": {},
   "outputs": [
    {
     "data": {
      "image/png": "[encoded data removed]",
      "text/plain": [
       "<Figure size 432x288 with 1 Axes>"
      ]
     },
     "metadata": {
      "needs_background": "light"
     },
     "output_type": "display_data"
    }
   ],
   "source": [
    "from statsmodels.graphics import tsaplots\n",
    "ax1= fig.add_subplot(111)\n",
    "fig= tsaplots.plot_acf(EPA_monthly['ContractAmount'],lags=12)"
   ]
  },
  {
   "cell_type": "markdown",
   "metadata": {},
   "source": [
    "### In this question, we will examine whether contract expenditure goes to companies located within or outside of New York City. To do so, we will extract the ZIP codes from the VendorAddress field. The ZIP codes pertaining to New York City can be found at the following URL: https://www.health.ny.gov/statistics/cancer/registry/appendix/neighborhoods.htm. Looking only at contracts with a StartDate in 2018, compute the total expenditure for contracts awarded to vendors listing NYC addresses and those located elsewhere. Report the proportion of the total expenditures awarded to the NYC vendors."
   ]
  },
  {
   "cell_type": "code",
   "execution_count": 522,
   "metadata": {},
   "outputs": [
    {
     "name": "stdout",
     "output_type": "stream",
     "text": [
      "Total value of contract amount awarded to vendors in NYC is: 6324801571.150000\n",
      "Total value of contract amount awarded to other vendoes is: 12418320198.880001\n",
      "Total value of contract amount awarded to vendors in NYC compared to others is: 0.509312\n"
     ]
    }
   ],
   "source": [
    "Zip_2018=filtered_df[filtered_df['StartDate'].dt.year==2018]\n",
    "\n",
    "def get_zip(address):\n",
    "    address=address.replace(',',' ').replace('(M/WBE)','').replace('(MWBE)','').replace('(mwbe)','').replace('.','').replace('m/wbe)','')\n",
    "    zip_chunk=address.split()[-1]\n",
    "    if ('-' in zip_chunk) and len(zip_chunk.split('-')[0])==5 and zip_chunk.split('-')[0].isdigit():\n",
    "        zip=zip_chunk.split('-')[0]\n",
    "    elif len(zip_chunk)==9 and zip_chunk.isdigit():\n",
    "        zip=zip_chunk[0:5]\n",
    "    elif zip_chunk.isalpha():\n",
    "        zip='None'\n",
    "    elif len(zip_chunk)<5:\n",
    "        zip='None'\n",
    "    elif zip_chunk.isdigit() and len(zip_chunk)==5:\n",
    "        zip=zip_chunk\n",
    "    else:\n",
    "        zip='None'\n",
    "    return zip\n",
    "\n",
    "Zip_2018['Zip code']=Zip_2018.VendorAddress.apply(get_zip)\n",
    "#Zip_2018['Zip code'].unique()\n",
    "NY_zip=get_NYC_zip()\n",
    "Zip_2018_NYC=Zip_2018[Zip_2018['Zip code'].isin(NY_zip)]\n",
    "NYC=Zip_2018_NYC['ContractAmount'].sum()\n",
    "Zip_2018_others=Zip_2018[~Zip_2018['Zip code'].isin(NY_zip)]\n",
    "others=Zip_2018_others['ContractAmount'].sum()\n",
    "print(\"Total value of contract amount awarded to vendors in NYC is: %f\"%NYC)\n",
    "print(\"Total value of contract amount awarded to other vendoes is: %f\"%others)\n",
    "print(\"Total value of contract amount awarded to vendors in NYC compared to others is: %f\"%(NYC/others))\n",
    "\n"
   ]
  },
  {
   "cell_type": "code",
   "execution_count": null,
   "metadata": {},
   "outputs": [],
   "source": []
  }
 ],
 "metadata": {
  "kernelspec": {
   "display_name": "Python 3",
   "language": "python",
   "name": "python3"
  },
  "language_info": {
   "codemirror_mode": {
    "name": "ipython",
    "version": 3
   },
   "file_extension": ".py",
   "mimetype": "text/x-python",
   "name": "python",
   "nbconvert_exporter": "python",
   "pygments_lexer": "ipython3",
   "version": "3.6.10"
  }
 },
 "nbformat": 4,
 "nbformat_minor": 4
}
